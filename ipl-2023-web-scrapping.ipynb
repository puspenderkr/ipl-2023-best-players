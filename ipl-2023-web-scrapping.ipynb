{
 "cells": [
  {
   "cell_type": "code",
   "execution_count": null,
   "id": "31c7ccd3",
   "metadata": {},
   "outputs": [],
   "source": [
    "from bs4 import BeautifulSoup\n",
    "import pandas as pd\n",
    "import requests as rq\n",
    "import numpy as np\n",
    "from selenium import webdriver\n",
    "from selenium.webdriver.support.ui import WebDriverWait\n",
    "from selenium.webdriver.support import expected_conditions as EC\n",
    "from selenium.webdriver.common.by import By\n",
    "from selenium.webdriver.common.action_chains import ActionChains\n",
    "from selenium.webdriver.chrome.options import Options\n",
    "\n",
    "from selenium.webdriver.support.ui import Select"
   ]
  },
  {
   "cell_type": "code",
   "execution_count": null,
   "id": "175e2e6d",
   "metadata": {},
   "outputs": [],
   "source": [
    "data = []"
   ]
  },
  {
   "cell_type": "code",
   "execution_count": null,
   "id": "0daa1693",
   "metadata": {},
   "outputs": [],
   "source": [
    "driver = webdriver.Chrome()\n",
    "url = \"http://www.howstat.com/cricket/Statistics/IPL/PlayerList.asp\"\n",
    "# url = \"http://www.howstat.com/cricket/Statistics/IPL/PlayerList.asp?s=XXXX\"\n",
    "driver.get(url)\n",
    "\n",
    "select = Select(driver.find_element(By.NAME, \"cboSeason\"))\n",
    "select.options[16].click()\n",
    "\n",
    "\n",
    "wait = WebDriverWait(driver, 10) # wait for up to 10 seconds for the page to load\n",
    "wait.until(EC.presence_of_element_located((By.TAG_NAME, \"body\")))\n",
    "\n",
    "content = driver.page_source.encode('utf-8').strip()\n",
    "soup = BeautifulSoup(content,\"html.parser\")\n",
    "\n",
    "table = soup.find(\"table\",{\"class\":\"TableLined\"})\n",
    "trs = table.find_all(\"tr\")\n",
    "a = table.find_all(\"a\", {\"class\":\"LinkTable\"})\n",
    "\n",
    "player_links = []\n",
    "names = []\n",
    "\n",
    "from collections import defaultdict\n",
    "    \n",
    "def def_value():\n",
    "    return \"Not Present\"\n",
    "    \n",
    "player_stat = defaultdict(def_value)\n",
    "\n",
    "for i in range(1,len(trs)):\n",
    "    tds = trs[i].find_all(\"td\")\n",
    "    name = tds[0].text.strip()\n",
    "    print(name)\n",
    "    match = tds[2].text.strip()\n",
    "    run = tds[3].text.strip()\n",
    "    bat_avg = tds[4].text.strip()\n",
    "    wicket = tds[5].text.strip()\n",
    "    bow_avg = tds[6].text.strip()\n",
    "    \n",
    "    player_stat = {\"Name\": name,\"Matches\": match, \"Runs\": run,\"Batting Average\": bat_avg, \"Wicket\": wicket, \"Bowling Average\": bow_avg}\n",
    "    \n",
    "    data.append(player_stat)\n",
    "\n",
    "\n",
    "driver.quit()"
   ]
  },
  {
   "cell_type": "code",
   "execution_count": null,
   "id": "ac7a4ccd",
   "metadata": {},
   "outputs": [],
   "source": [
    "new_data = pd.DataFrame.from_dict(data)\n",
    "new_data.to_csv(\"ipl-2023.csv\")"
   ]
  }
 ],
 "metadata": {
  "kernelspec": {
   "display_name": "Python 3 (ipykernel)",
   "language": "python",
   "name": "python3"
  },
  "language_info": {
   "codemirror_mode": {
    "name": "ipython",
    "version": 3
   },
   "file_extension": ".py",
   "mimetype": "text/x-python",
   "name": "python",
   "nbconvert_exporter": "python",
   "pygments_lexer": "ipython3",
   "version": "3.9.13"
  }
 },
 "nbformat": 4,
 "nbformat_minor": 5
}
